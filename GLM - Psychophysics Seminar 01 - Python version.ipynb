{
 "cells": [
  {
   "cell_type": "code",
   "execution_count": 140,
   "id": "34959808",
   "metadata": {},
   "outputs": [],
   "source": [
    "import matplotlib.pyplot as plt\n",
    "import seaborn as sns\n",
    "import statsmodels.api as sm\n",
    "import statsmodels.formula.api as smf\n",
    "import pandas as pd\n",
    "import numpy as np\n",
    "import random\n",
    "\n",
    "# Read in the dataset\n",
    "df = pd.read_csv('_2afcDemo_2021_Nov_11_1254.csv')\n",
    "\n",
    "# Extract the columns of interest\n",
    "df = df[[\"key_resp_3.keys\", \"key_resp_3.corr\", \"key_resp_3.rt\", \"key_resp_4.keys\", \"degree\"]]\n",
    "df.columns = [\"resp\", \"corr\", \"rt\", \"conf\", \"stimDeg\"]"
   ]
  },
  {
   "cell_type": "code",
   "execution_count": 91,
   "id": "bdabaac3",
   "metadata": {},
   "outputs": [
    {
     "data": {
      "text/html": [
       "<div>\n",
       "<style scoped>\n",
       "    .dataframe tbody tr th:only-of-type {\n",
       "        vertical-align: middle;\n",
       "    }\n",
       "\n",
       "    .dataframe tbody tr th {\n",
       "        vertical-align: top;\n",
       "    }\n",
       "\n",
       "    .dataframe thead th {\n",
       "        text-align: right;\n",
       "    }\n",
       "</style>\n",
       "<table border=\"1\" class=\"dataframe\">\n",
       "  <thead>\n",
       "    <tr style=\"text-align: right;\">\n",
       "      <th></th>\n",
       "      <th>resp</th>\n",
       "      <th>corr</th>\n",
       "      <th>rt</th>\n",
       "      <th>conf</th>\n",
       "      <th>stimDeg</th>\n",
       "    </tr>\n",
       "  </thead>\n",
       "  <tbody>\n",
       "    <tr>\n",
       "      <th>0</th>\n",
       "      <td>NaN</td>\n",
       "      <td>NaN</td>\n",
       "      <td>NaN</td>\n",
       "      <td>NaN</td>\n",
       "      <td>NaN</td>\n",
       "    </tr>\n",
       "    <tr>\n",
       "      <th>1</th>\n",
       "      <td>right</td>\n",
       "      <td>0.0</td>\n",
       "      <td>0.813306</td>\n",
       "      <td>3.0</td>\n",
       "      <td>1.0</td>\n",
       "    </tr>\n",
       "    <tr>\n",
       "      <th>2</th>\n",
       "      <td>right</td>\n",
       "      <td>0.0</td>\n",
       "      <td>0.743841</td>\n",
       "      <td>4.0</td>\n",
       "      <td>3.0</td>\n",
       "    </tr>\n",
       "    <tr>\n",
       "      <th>3</th>\n",
       "      <td>right</td>\n",
       "      <td>1.0</td>\n",
       "      <td>0.698095</td>\n",
       "      <td>3.0</td>\n",
       "      <td>3.0</td>\n",
       "    </tr>\n",
       "    <tr>\n",
       "      <th>4</th>\n",
       "      <td>left</td>\n",
       "      <td>1.0</td>\n",
       "      <td>0.817631</td>\n",
       "      <td>3.0</td>\n",
       "      <td>2.0</td>\n",
       "    </tr>\n",
       "  </tbody>\n",
       "</table>\n",
       "</div>"
      ],
      "text/plain": [
       "    resp  corr        rt  conf  stimDeg\n",
       "0    NaN   NaN       NaN   NaN      NaN\n",
       "1  right   0.0  0.813306   3.0      1.0\n",
       "2  right   0.0  0.743841   4.0      3.0\n",
       "3  right   1.0  0.698095   3.0      3.0\n",
       "4   left   1.0  0.817631   3.0      2.0"
      ]
     },
     "execution_count": 91,
     "metadata": {},
     "output_type": "execute_result"
    }
   ],
   "source": [
    "df.head()\n",
    "# We can see there's a few NaN values. Shoudn't matter too much but let just clean it"
   ]
  },
  {
   "cell_type": "code",
   "execution_count": 92,
   "id": "f5a420e4",
   "metadata": {},
   "outputs": [
    {
     "data": {
      "text/html": [
       "<div>\n",
       "<style scoped>\n",
       "    .dataframe tbody tr th:only-of-type {\n",
       "        vertical-align: middle;\n",
       "    }\n",
       "\n",
       "    .dataframe tbody tr th {\n",
       "        vertical-align: top;\n",
       "    }\n",
       "\n",
       "    .dataframe thead th {\n",
       "        text-align: right;\n",
       "    }\n",
       "</style>\n",
       "<table border=\"1\" class=\"dataframe\">\n",
       "  <thead>\n",
       "    <tr style=\"text-align: right;\">\n",
       "      <th></th>\n",
       "      <th>resp</th>\n",
       "      <th>corr</th>\n",
       "      <th>rt</th>\n",
       "      <th>conf</th>\n",
       "      <th>stimDeg</th>\n",
       "    </tr>\n",
       "  </thead>\n",
       "  <tbody>\n",
       "    <tr>\n",
       "      <th>1</th>\n",
       "      <td>right</td>\n",
       "      <td>0.0</td>\n",
       "      <td>0.813306</td>\n",
       "      <td>3.0</td>\n",
       "      <td>1.0</td>\n",
       "    </tr>\n",
       "    <tr>\n",
       "      <th>2</th>\n",
       "      <td>right</td>\n",
       "      <td>0.0</td>\n",
       "      <td>0.743841</td>\n",
       "      <td>4.0</td>\n",
       "      <td>3.0</td>\n",
       "    </tr>\n",
       "    <tr>\n",
       "      <th>3</th>\n",
       "      <td>right</td>\n",
       "      <td>1.0</td>\n",
       "      <td>0.698095</td>\n",
       "      <td>3.0</td>\n",
       "      <td>3.0</td>\n",
       "    </tr>\n",
       "    <tr>\n",
       "      <th>4</th>\n",
       "      <td>left</td>\n",
       "      <td>1.0</td>\n",
       "      <td>0.817631</td>\n",
       "      <td>3.0</td>\n",
       "      <td>2.0</td>\n",
       "    </tr>\n",
       "    <tr>\n",
       "      <th>5</th>\n",
       "      <td>right</td>\n",
       "      <td>1.0</td>\n",
       "      <td>0.547027</td>\n",
       "      <td>4.0</td>\n",
       "      <td>3.0</td>\n",
       "    </tr>\n",
       "  </tbody>\n",
       "</table>\n",
       "</div>"
      ],
      "text/plain": [
       "    resp  corr        rt  conf  stimDeg\n",
       "1  right   0.0  0.813306   3.0      1.0\n",
       "2  right   0.0  0.743841   4.0      3.0\n",
       "3  right   1.0  0.698095   3.0      3.0\n",
       "4   left   1.0  0.817631   3.0      2.0\n",
       "5  right   1.0  0.547027   4.0      3.0"
      ]
     },
     "execution_count": 92,
     "metadata": {},
     "output_type": "execute_result"
    }
   ],
   "source": [
    "df = df.dropna() # drop the rows that only contain NaN\n",
    "df.head()"
   ]
  },
  {
   "cell_type": "code",
   "execution_count": 93,
   "id": "3b3e4208",
   "metadata": {},
   "outputs": [
    {
     "data": {
      "text/plain": [
       "<AxesSubplot:xlabel='stimDeg', ylabel='corr'>"
      ]
     },
     "execution_count": 93,
     "metadata": {},
     "output_type": "execute_result"
    },
    {
     "data": {
      "image/png": "[encoded data removed]",
      "text/plain": [
       "<Figure size 432x288 with 1 Axes>"
      ]
     },
     "metadata": {
      "needs_background": "light"
     },
     "output_type": "display_data"
    }
   ],
   "source": [
    "# A quick look at the data itself \n",
    "fig, ax = plt.subplots()\n",
    "sns.barplot(x='stimDeg', y='corr', data=df, ax=ax)"
   ]
  },
  {
   "cell_type": "code",
   "execution_count": 147,
   "id": "ff746484",
   "metadata": {},
   "outputs": [
    {
     "data": {
      "text/plain": [
       "<matplotlib.collections.PathCollection at 0x253a3ba6f70>"
      ]
     },
     "execution_count": 147,
     "metadata": {},
     "output_type": "execute_result"
    },
    {
     "data": {
      "image/png": "[encoded data removed]",
      "text/plain": [
       "<Figure size 432x288 with 1 Axes>"
      ]
     },
     "metadata": {
      "needs_background": "light"
     },
     "output_type": "display_data"
    }
   ],
   "source": [
    "# Also do a scatter plot and add some jitter. \n",
    "\n",
    "def jitter(lst,intensity=0.05):\n",
    "    \"\"\" Add a random value to each value in a list\"\"\"\n",
    "    return [np.random.normal()*intensity+x for x in lst]\n",
    "\n",
    "x = df['stimDeg']\n",
    "y = df['corr']\n",
    "x = jitter(x)\n",
    "y = jitter(y)\n",
    "\n",
    "plt.scatter(x,y, alpha=0.5)\n"
   ]
  },
  {
   "cell_type": "code",
   "execution_count": 99,
   "id": "9930cfc5",
   "metadata": {},
   "outputs": [
    {
     "name": "stdout",
     "output_type": "stream",
     "text": [
      "                 Generalized Linear Model Regression Results                  \n",
      "==============================================================================\n",
      "Dep. Variable:                   corr   No. Observations:                   90\n",
      "Model:                            GLM   Df Residuals:                       88\n",
      "Model Family:                Binomial   Df Model:                            1\n",
      "Link Function:                  logit   Scale:                          1.0000\n",
      "Method:                          IRLS   Log-Likelihood:                -45.836\n",
      "Date:                Thu, 18 Nov 2021   Deviance:                       91.672\n",
      "Time:                        10:53:30   Pearson chi2:                     90.0\n",
      "No. Iterations:                     4                                         \n",
      "Covariance Type:            nonrobust                                         \n",
      "==============================================================================\n",
      "                 coef    std err          z      P>|z|      [0.025      0.975]\n",
      "------------------------------------------------------------------------------\n",
      "Intercept      0.6335      0.685      0.925      0.355      -0.709       1.976\n",
      "stimDeg        0.3326      0.318      1.048      0.295      -0.290       0.955\n",
      "==============================================================================\n"
     ]
    }
   ],
   "source": [
    "model = smf.glm(formula = 'corr ~ stimDeg', data=df, family=sm.families.Binomial())\n",
    "alternate_hypothesis = model.fit()\n",
    "print(alternate_hypothesis.summary())\n",
    "\n",
    "def model_prediction(x, model):\n",
    "    return model.params['Intercept'] + model.params['stimDeg'] * x"
   ]
  },
  {
   "cell_type": "code",
   "execution_count": 133,
   "id": "ab56b551",
   "metadata": {},
   "outputs": [
    {
     "data": {
      "text/plain": [
       "91.67185000598788"
      ]
     },
     "execution_count": 133,
     "metadata": {},
     "output_type": "execute_result"
    }
   ],
   "source": [
    "alternate_hypothesis.deviance"
   ]
  },
  {
   "cell_type": "code",
   "execution_count": 98,
   "id": "48ac03cf",
   "metadata": {},
   "outputs": [
    {
     "name": "stdout",
     "output_type": "stream",
     "text": [
      "                 Generalized Linear Model Regression Results                  \n",
      "==============================================================================\n",
      "Dep. Variable:                   corr   No. Observations:                   90\n",
      "Model:                            GLM   Df Residuals:                       89\n",
      "Model Family:                Binomial   Df Model:                            0\n",
      "Link Function:                  logit   Scale:                          1.0000\n",
      "Method:                          IRLS   Log-Likelihood:                -46.388\n",
      "Date:                Thu, 18 Nov 2021   Deviance:                       92.777\n",
      "Time:                        10:52:32   Pearson chi2:                     90.0\n",
      "No. Iterations:                     4                                         \n",
      "Covariance Type:            nonrobust                                         \n",
      "==============================================================================\n",
      "                 coef    std err          z      P>|z|      [0.025      0.975]\n",
      "------------------------------------------------------------------------------\n",
      "Intercept      1.3182      0.258      5.104      0.000       0.812       1.824\n",
      "==============================================================================\n"
     ]
    }
   ],
   "source": [
    "model = smf.glm(formula = 'corr ~ 1', data=df, family=sm.families.Binomial())\n",
    "null_hypothesis = model.fit()\n",
    "print(null_hypothesis.summary())"
   ]
  },
  {
   "cell_type": "markdown",
   "id": "e1f08bfb",
   "metadata": {},
   "source": [
    "**Interpretation of the logistic regression equation**<br>\n",
    "*Estimated probability of correct response is 0.836*\n",
    "\n",
    "$log(\\frac{p}{1-p}) = 0.6335+0.3326∗3 = 1.6313$\n",
    "<br><br>\n",
    "$\\frac{p}{1-p} = exp(1.6314) = 5.1105$\n",
    "<br><br>\n",
    "$p = 0.8363$"
   ]
  },
  {
   "cell_type": "code",
   "execution_count": 134,
   "id": "177f0b76",
   "metadata": {},
   "outputs": [
    {
     "data": {
      "text/plain": [
       "0.8363486943398135"
      ]
     },
     "execution_count": 134,
     "metadata": {},
     "output_type": "execute_result"
    }
   ],
   "source": [
    "# Now with code\n",
    "def model_prediction(x, model):\n",
    "    return model.params['Intercept'] + model.params['stimDeg'] * x\n",
    "\n",
    "prediction = model_prediction(3, alternate_hypothesis)\n",
    "\n",
    "from scipy.stats import logistic\n",
    "# Calculate the cummulative density function\n",
    "logistic.cdf(prediction)"
   ]
  },
  {
   "cell_type": "code",
   "execution_count": 149,
   "id": "1affb33f",
   "metadata": {},
   "outputs": [
    {
     "data": {
      "text/plain": [
       "[<matplotlib.lines.Line2D at 0x253a3dc8c10>]"
      ]
     },
     "execution_count": 149,
     "metadata": {},
     "output_type": "execute_result"
    },
    {
     "data": {
      "image/png": "[encoded data removed]",
      "text/plain": [
       "<Figure size 432x288 with 1 Axes>"
      ]
     },
     "metadata": {
      "needs_background": "light"
     },
     "output_type": "display_data"
    }
   ],
   "source": [
    "fig, ax = plt.subplots()\n",
    "\n",
    "x = df['stimDeg']\n",
    "y = df['corr']\n",
    "x = jitter(x)\n",
    "y = jitter(y)\n",
    "\n",
    "ax.scatter(x,y, alpha=0.5)\n",
    "\n",
    "\n",
    "x = np.linspace(1,3,100)\n",
    "from scipy.stats import logistic\n",
    "# Calculate the cummulative density function\n",
    "y = [logistic.cdf(h1_fun(x,h1)) for x in x]\n",
    "ax.plot(x,y, c='r')"
   ]
  },
  {
   "cell_type": "code",
   "execution_count": 132,
   "id": "7fb1c6f7",
   "metadata": {},
   "outputs": [
    {
     "name": "stderr",
     "output_type": "stream",
     "text": [
      "C:\\Users\\user\\anaconda3\\lib\\site-packages\\seaborn\\distributions.py:2557: FutureWarning: `distplot` is a deprecated function and will be removed in a future version. Please adapt your code to use either `displot` (a figure-level function with similar flexibility) or `kdeplot` (an axes-level function for kernel density plots).\n",
      "  warnings.warn(msg, FutureWarning)\n",
      "C:\\Users\\user\\anaconda3\\lib\\site-packages\\seaborn\\distributions.py:2557: FutureWarning: `distplot` is a deprecated function and will be removed in a future version. Please adapt your code to use either `displot` (a figure-level function with similar flexibility) or `kdeplot` (an axes-level function for kernel density plots).\n",
      "  warnings.warn(msg, FutureWarning)\n"
     ]
    },
    {
     "data": {
      "text/plain": [
       "(0.0, 0.27)"
      ]
     },
     "execution_count": 132,
     "metadata": {},
     "output_type": "execute_result"
    },
    {
     "data": {
      "image/png": "[encoded data removed]",
      "text/plain": [
       "<Figure size 720x720 with 1 Axes>"
      ]
     },
     "metadata": {
      "needs_background": "light"
     },
     "output_type": "display_data"
    }
   ],
   "source": [
    "fig, ax = plt.subplots(figsize=(10,10))\n",
    "\n",
    "x_ticks = []\n",
    "\n",
    "for x, color in zip([1, 3], ['red','blue']):\n",
    "    loc = h1_fun(x, h1)\n",
    "    s = np.random.logistic(loc, 1, 10000)\n",
    "    sns.distplot(s, hist=False, color=color)\n",
    "    ax.plot([loc, loc], [0, 0.27], c=color, linestyle='--')\n",
    "    x_ticks.append(loc)\n",
    "    \n",
    "\n",
    "plt.plot([0,0],[0,0.5], c='black')\n",
    "x_ticks.append(0)\n",
    "\n",
    "ax.set_xticks(x_ticks)\n",
    "\n",
    "# Arbitrary limits to get a good view\n",
    "ax.set_xlim([-6, 6])\n",
    "ax.set_ylim([0,0.27])"
   ]
  },
  {
   "cell_type": "code",
   "execution_count": null,
   "id": "f4433dcd",
   "metadata": {},
   "outputs": [],
   "source": []
  }
 ],
 "metadata": {
  "kernelspec": {
   "display_name": "Python 3",
   "language": "python",
   "name": "python3"
  },
  "language_info": {
   "codemirror_mode": {
    "name": "ipython",
    "version": 3
   },
   "file_extension": ".py",
   "mimetype": "text/x-python",
   "name": "python",
   "nbconvert_exporter": "python",
   "pygments_lexer": "ipython3",
   "version": "3.8.8"
  }
 },
 "nbformat": 4,
 "nbformat_minor": 5
}
